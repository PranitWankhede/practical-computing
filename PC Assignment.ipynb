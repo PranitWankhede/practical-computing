{
 "cells": [
  {
   "cell_type": "code",
   "execution_count": 1,
   "id": "8d2031a9",
   "metadata": {},
   "outputs": [],
   "source": [
    "import numpy as np\n",
    "import time\n",
    "import matplotlib.pyplot as plt"
   ]
  },
  {
   "cell_type": "code",
   "execution_count": 2,
   "id": "263a2b76",
   "metadata": {},
   "outputs": [],
   "source": [
    "def Big_face_area(a,b,c):\n",
    "    Dimention_1 = a*b\n",
    "    Dimention_2 = a*c\n",
    "    Dimention_3 = b*c\n",
    "    return max (Dimention_1,Dimention_2,Dimention_3)"
   ]
  },
  {
   "cell_type": "code",
   "execution_count": 3,
   "id": "fb50d307",
   "metadata": {},
   "outputs": [
    {
     "data": {
      "text/plain": [
       "600"
      ]
     },
     "execution_count": 3,
     "metadata": {},
     "output_type": "execute_result"
    }
   ],
   "source": [
    "Big_face_area(30,20,15)"
   ]
  },
  {
   "cell_type": "code",
   "execution_count": 4,
   "id": "1b4caca6",
   "metadata": {},
   "outputs": [],
   "source": [
    "length=[30,40,50]\n",
    "b = 20\n",
    "h = 15"
   ]
  },
  {
   "cell_type": "code",
   "execution_count": 5,
   "id": "b895e7be",
   "metadata": {},
   "outputs": [
    {
     "data": {
      "text/plain": [
       "['Big face area is 600 Sq.Units',\n",
       " 'Big face area is 800 Sq.Units',\n",
       " 'Big face area is 1000 Sq.Units']"
      ]
     },
     "execution_count": 5,
     "metadata": {},
     "output_type": "execute_result"
    }
   ],
   "source": [
    "length=[30,40,50]\n",
    "x = [(f\"Big face area is {Big_face_area(i,b,h)} Sq.Units\") for i in length]\n",
    "x"
   ]
  },
  {
   "cell_type": "code",
   "execution_count": 6,
   "id": "80f82662",
   "metadata": {},
   "outputs": [
    {
     "data": {
      "text/plain": [
       "[('volume is 9000',), ('volume is 12000',), ('volume is 15000',)]"
      ]
     },
     "execution_count": 6,
     "metadata": {},
     "output_type": "execute_result"
    }
   ],
   "source": [
    "def recta_cuboid_vol(length,b,h):\n",
    "    volume= length*b*h\n",
    "    return volume\n",
    "y = [(f\"volume is {recta_cuboid_vol(i,b,h)}\",) for i in length]\n",
    "y"
   ]
  },
  {
   "cell_type": "code",
   "execution_count": 7,
   "id": "b8edad04",
   "metadata": {},
   "outputs": [],
   "source": [
    "matrix_size = [10,30,50,100,500,1000]\n",
    "Empty=[]\n",
    "for i in  matrix_size:\n",
    "    start = time.time()\n",
    "    first_matrix = np.random.randint(50,size = (i,i))\n",
    "    second_matrix = np.random.randint(50,size = (i,i))\n",
    "    R = np.zeros((i,i))\n",
    "    for j in range(len(first_matrix)):\n",
    "        for k in range (len(second_matrix[0])):\n",
    "            for l  in range (len(second_matrix)):\n",
    "                R[j][k]+=first_matrix[j][l]*second_matrix[l][k]\n",
    "                \n",
    "    end = time.time()\n",
    "    Time_req = end-start\n",
    "    Empty.append(Time_req)"
   ]
  },
  {
   "cell_type": "code",
   "execution_count": 8,
   "id": "83f2052c",
   "metadata": {},
   "outputs": [
    {
     "data": {
      "text/plain": [
       "[0.0,\n",
       " 0.09373760223388672,\n",
       " 0.3078484535217285,\n",
       " 2.4961960315704346,\n",
       " 310.960324048996,\n",
       " 2409.6685605049133]"
      ]
     },
     "execution_count": 8,
     "metadata": {},
     "output_type": "execute_result"
    }
   ],
   "source": [
    "Empty"
   ]
  },
  {
   "cell_type": "code",
   "execution_count": 9,
   "id": "71741c5c",
   "metadata": {},
   "outputs": [],
   "source": [
    "Time_1 = []\n",
    "for i in matrix_size:\n",
    "    start = time.time()\n",
    "    first_matrix = np.random.randint(50,size = (i,i))\n",
    "    second_matrix = np.random.randint(50,size = (i,i))\n",
    "    \n",
    "    r = np.dot(first_matrix,second_matrix)\n",
    "    end = time.time()\n",
    "    Time = end-start\n",
    "    Time_1.append(Time)"
   ]
  },
  {
   "cell_type": "code",
   "execution_count": 10,
   "id": "b64de026",
   "metadata": {},
   "outputs": [
    {
     "name": "stdout",
     "output_type": "stream",
     "text": [
      "Time required for Non vectorize method: [0.0, 0.09373760223388672, 0.3078484535217285, 2.4961960315704346, 310.960324048996, 2409.6685605049133]\n",
      "Time required for vectorize method: [0.0007369518280029297, 0.0, 0.0, 0.0, 0.22589731216430664, 2.5031657218933105]\n"
     ]
    }
   ],
   "source": [
    "print(\"Time required for Non vectorize method:\",Empty)\n",
    "print(\"Time required for vectorize method:\",Time_1)\n"
   ]
  },
  {
   "cell_type": "code",
   "execution_count": 11,
   "id": "318aec43",
   "metadata": {},
   "outputs": [
    {
     "data": {
      "image/png": "[encoded data removed]",
      "text/plain": [
       "<Figure size 432x288 with 1 Axes>"
      ]
     },
     "metadata": {
      "needs_background": "light"
     },
     "output_type": "display_data"
    }
   ],
   "source": [
    "plt.plot(matrix_size,Empty,label=\"Non vectorized\")\n",
    "plt.plot(matrix_size,Time_1,label=\"Vectorized\")\n",
    "plt.xlabel(\"matrix_size\")\n",
    "plt.ylabel(\"Time_required\")\n",
    "plt.legend()\n",
    "plt.show()"
   ]
  }
 ],
 "metadata": {
  "kernelspec": {
   "display_name": "Python 3",
   "language": "python",
   "name": "python3"
  },
  "language_info": {
   "codemirror_mode": {
    "name": "ipython",
    "version": 3
   },
   "file_extension": ".py",
   "mimetype": "text/x-python",
   "name": "python",
   "nbconvert_exporter": "python",
   "pygments_lexer": "ipython3",
   "version": "3.8.8"
  }
 },
 "nbformat": 4,
 "nbformat_minor": 5
}
